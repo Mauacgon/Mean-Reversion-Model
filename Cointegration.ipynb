{
 "cells": [
  {
   "cell_type": "code",
   "execution_count": 5,
   "metadata": {},
   "outputs": [],
   "source": [
    "import pandas as pd\n",
    "import os\n",
    "import numpy as np\n",
    "from statsmodels.tsa.vector_ar.vecm import coint_johansen\n",
    "from statsmodels.tsa.vector_ar.vecm import select_coint_rank\n",
    "\n",
    "import  scipy.signal.signaltools\n",
    "\n",
    "#workaround found in Stackoverflow, apparently a VAR function dependency within statsmodel was changed/removed, this workaround defines it again:\n",
    "\n",
    "def _centered(arr, newsize):\n",
    "    # Return the center newsize portion of the array.\n",
    "    newsize = np.asarray(newsize)\n",
    "    currsize = np.array(arr.shape)\n",
    "    startind = (currsize - newsize) // 2\n",
    "    endind = startind + newsize\n",
    "    myslice = [slice(startind[k], endind[k]) for k in range(len(endind))]\n",
    "    return arr[tuple(myslice)]\n",
    "\n",
    "scipy.signal.signaltools._centered = _centered\n",
    "\n",
    "from statsmodels.tsa.api import VAR\n",
    "from statsmodels.tsa.vector_ar.vecm import VECM\n",
    "import datetime\n",
    "import matplotlib\n",
    "from statsmodels.tsa.stattools import adfuller\n",
    "%matplotlib notebook\n",
    "\n",
    "\n",
    "\n",
    "#If VAR matrix has complete rank, the variables are cointegrated and are an I(0), in this case there is no room for non-stationary time series analysis\n",
    "#If the VAR matrix has null rank, then the variables are not cointegrated.\n",
    "#If the VAR matrix has a rank in between, there is cointegration between 2 or more variables.\n",
    "\n",
    "##The Johansen test is based on the theorem of nullity + rank = rows\n",
    "##The geometric mutiplicity of Lambda = 0 as an eigenvalue is equal to the NULLITY\n",
    "##The nullspace of T is the solution to the homogeneus eq.: Ax = 0 (Av = Lambda*v when Lambda = 0)\n",
    "##The nullity of T is the dimension of the Nullspace, and it is set by the number of free variables in the solution of the equation above (the Nullspace)\n",
    "##Since the number of free variables mentioned in the previous point (nullity) is set by the number of variables (columns) - the number of equations \n",
    "#and the number of equations is equal to the independent rows (rank), then the nullity is equal to the number of columns - the rank.\n",
    "##For cointegration you will always have a square Matrix, so the nullity is going to be determined only by the number of independent rows (and not by the difference cloumns - rows as well)\n",
    "##The geometric multiplicity of an eigenvalue is the dimension of the vectors associated with it, in the case of Lambda = 0 it is the nullity\n",
    "#In the case of the other vectors you just have to create a subspace with all the eigenvectors associated with the eigenvalue an see what dimension of the subspace is.\n",
    "#In general, all the gemoetric multiplicities are gotten by the dimension of the nullity of A-lambda*I for every lambda\n",
    "#(for lambda = 0 it turns to the be the nullspace of A because A-0*I = A).\n",
    "##The algebraic  multiplicity is simply the number of times a certain lambda value appears as a root of the characteristic polynomic of A\n",
    "#The geometric multiplicity can never exeed the algebraic multiplicity.\n",
    "#If you add-up all the algebraic multiplicities of every lambda in A (including the nullity of A [geom. multiplicity of lambda = 0]) then you get the number of columns of A. \n",
    "\n",
    "##The fundament of the Johansen test is that in Algebra, every nullspace vector corresponds to a linear relationship amongst the variables\n",
    "##The number of these linear relationships is given by the size of the nullspace.\n",
    "##This contrast first orders the lambdas from highest to lowest, then (presumably assuming the same distribution for every lambda)\n",
    "#it does a significance contast with the null hypothesis that the highest lamda is equal to 0, if the hypothesis is rejected, then\n",
    "#the significance test is repeated with the next lambda. If it is accepted, we assume the rank of the matrix is 0 (if the highest lambda is 0\n",
    "#we assume the lower lambdas [the subsequent ones in the ordered succesion] will be 0 too.)\n",
    "##The normalized eigenvectors in relation to the first column give you the cointegration relationships.\n",
    "##There is a theorem that states that the sum of all the eigenvalues is equal to the trace of the Matrix, that is why there is also a Trace contrast\n",
    "#and it is because the size of the trace will give you an idea of how big the sum of the eigenvalues is and hence how likely it is that they are far from 0.\n",
    "##The maximum eigenvalue test examines whether the largest eigenvalue is zero relative to the alternative that the next largest eigenvalue is zero.\n",
    "##The Johansen test tests for the size of the algebraic multiplicty and not for the size of the geometric multiplicity (the former can be actually higher than the geometric multiplicity)\n",
    "#So it could understate the number of linearly independent vectors in the VAR matrix (exprssed in error correction form), and hence understate the number of cointegration\n",
    "#relationships.\n",
    "#The possible cointegration relations are the eigenvectors becuase they are linear transformations of t-1 variables into t which direction does not change, and that means that they are the possible long term relationships\n",
    "\n",
    "\n",
    "os.getcwd()\n",
    "\n",
    "data = pd.read_csv('C:/Users/D110148/OneDrive - pzem/data/Cointegration_Test.csv', sep = \";\", decimal=',')\n",
    "data.index = [pd.to_datetime(i, infer_datetime_format=True) for i in data['Index']]\n",
    "data = data.iloc[:,1:]\n",
    "data.where(data == 'NaN', np.nan)\n",
    "data.interpolate(inplace=True)\n",
    "\n",
    "asOfDate = datetime.datetime(2021,9,1)\n",
    "\n",
    "data_to_coint = data[[data.columns[2],data.columns[4],data.columns[5]]]  #1.Gas 2.CO2 3.Coal\n",
    "\n",
    "data_to_coint.columns = ['TTF','EUA','API2']\n",
    "\n",
    "#data_to_coint = data[[data.columns[2],data.columns[4],data.columns[7]]]  #1.Gas 2.CO2 3.Power\n",
    "results = coint_johansen(data_to_coint[data_to_coint.index > asOfDate], det_order = 0,k_ar_diff=2)\n",
    "\n",
    "data_to_coint.to_csv('dataToCoint.csv')"
   ]
  },
  {
   "cell_type": "code",
   "execution_count": 6,
   "metadata": {},
   "outputs": [
    {
     "data": {
      "text/plain": [
       "(array([16.88671259, 14.25804973,  3.07475242]),\n",
       " array([[18.8928, 21.1314, 25.865 ],\n",
       "        [12.2971, 14.2639, 18.52  ],\n",
       "        [ 2.7055,  3.8415,  6.6349]]))"
      ]
     },
     "execution_count": 6,
     "metadata": {},
     "output_type": "execute_result"
    }
   ],
   "source": [
    "#Max eigenvalue contrast\n",
    "\n",
    "results.max_eig_stat, results.max_eig_stat_crit_vals"
   ]
  },
  {
   "cell_type": "code",
   "execution_count": 99,
   "metadata": {},
   "outputs": [
    {
     "data": {
      "text/plain": [
       "(array([34.21951474, 17.33280215,  3.07475242]),\n",
       " array([[27.0669, 29.7961, 35.4628],\n",
       "        [13.4294, 15.4943, 19.9349],\n",
       "        [ 2.7055,  3.8415,  6.6349]]))"
      ]
     },
     "execution_count": 99,
     "metadata": {},
     "output_type": "execute_result"
    }
   ],
   "source": [
    "#Trace contrast:\n",
    "\n",
    "results.trace_stat, results.trace_stat_crit_vals"
   ]
  },
  {
   "cell_type": "code",
   "execution_count": 100,
   "metadata": {},
   "outputs": [
    {
     "data": {
      "text/plain": [
       "1"
      ]
     },
     "execution_count": 100,
     "metadata": {},
     "output_type": "execute_result"
    }
   ],
   "source": [
    "#Rank according to the contrast:\n",
    "\n",
    "results2=select_coint_rank(data_to_coint[data_to_coint.index > datetime.datetime(2021,6,23)], det_order = 0,k_ar_diff=2)\n",
    "\n",
    "results2.rank"
   ]
  },
  {
   "cell_type": "code",
   "execution_count": 101,
   "metadata": {},
   "outputs": [
    {
     "data": {
      "text/plain": [
       "array([0.03201338, 0.02709823, 0.00590686])"
      ]
     },
     "execution_count": 101,
     "metadata": {},
     "output_type": "execute_result"
    }
   ],
   "source": [
    "#Eigenvalues\n",
    "\n",
    "results.eig"
   ]
  },
  {
   "cell_type": "code",
   "execution_count": 102,
   "metadata": {},
   "outputs": [
    {
     "data": {
      "text/plain": [
       "array([[ 0.02220395,  0.03284604, -0.01023705],\n",
       "       [ 0.07410655, -0.03441259,  0.0326037 ],\n",
       "       [-0.01330999, -0.0269979 , -0.00785098]])"
      ]
     },
     "execution_count": 102,
     "metadata": {},
     "output_type": "execute_result"
    }
   ],
   "source": [
    "#Eigenvectors\n",
    "\n",
    "results.evec"
   ]
  },
  {
   "cell_type": "code",
   "execution_count": 103,
   "metadata": {},
   "outputs": [
    {
     "data": {
      "text/plain": [
       "array([-1.6682167 , -5.56773887,  1.        ])"
      ]
     },
     "execution_count": 103,
     "metadata": {},
     "output_type": "execute_result"
    }
   ],
   "source": [
    "#Cointegration relationship in case it exists:\n",
    "\n",
    "vector = results.evec[:,0]/results.evec[2][0]  #1.Gas 2.CO2 3.Coal\n",
    "vector"
   ]
  },
  {
   "cell_type": "code",
   "execution_count": 115,
   "metadata": {},
   "outputs": [
    {
     "data": {
      "text/plain": [
       "(array([-0.01774345,  0.04008733]),\n",
       " 76.29192620250986,\n",
       "                TTF     EUA    API2\n",
       " 2021-11-01  16.463  34.855   69.90\n",
       " 2021-12-01  16.857  35.415   73.20\n",
       " 2021-09-02  17.400  38.760   67.86\n",
       " 2021-10-02  17.287  39.610   66.83\n",
       " 2021-11-02  16.925  39.835   66.78\n",
       " ...            ...     ...     ...\n",
       " 2023-08-25  52.108  86.020  128.30\n",
       " 2023-08-28  55.080  85.755  128.30\n",
       " 2023-08-29  52.916  84.940  127.84\n",
       " 2023-08-30  54.451  85.920  128.21\n",
       " 2023-08-31  52.422  85.995  125.70\n",
       " \n",
       " [522 rows x 3 columns])"
      ]
     },
     "execution_count": 115,
     "metadata": {},
     "output_type": "execute_result"
    }
   ],
   "source": [
    "#Check with Linear Regression\n",
    "\n",
    "from sklearn.linear_model import LinearRegression\n",
    "\n",
    "dataRegress = data_to_coint[data_to_coint.index > asOfDate]\n",
    "\n",
    "LR = LinearRegression()\n",
    "\n",
    "LR.fit(np.array(dataRegress.drop(['EUA'], axis=1)),dataRegress.iloc[:,1])\n",
    "\n",
    "LR.coef_, LR.intercept_, dataRegress\n",
    "\n",
    "#from statsmodels.tsa.api import VAR\n",
    "\n",
    "#model = VAR(dataRegress)\n",
    "\n",
    "#resultsVAR = model.fit(2)\n",
    "\n",
    "#resultsVAR.summary()"
   ]
  },
  {
   "cell_type": "code",
   "execution_count": 105,
   "metadata": {},
   "outputs": [],
   "source": [
    "# Trying random experiment with linear relationiship between process 1 and 2\n",
    "\n",
    "import random\n",
    "import matplotlib.pyplot as plt\n",
    "%matplotlib notebook\n",
    "\n",
    "random.seed(6)\n",
    "\n",
    "yields1 = [random.normalvariate(0,0.012) for i in range(365)]\n",
    "\n",
    "process1 = []\n",
    "\n",
    "P0 = 15\n",
    "\n",
    "process1.append(P0)\n",
    "\n",
    "for i in yields1:\n",
    "    P0 = P0*(1+i)\n",
    "    process1.append(P0)\n",
    "    \n",
    "process2 = [i*0.35 for i in process1]\n",
    "\n",
    "yields3 = [random.normalvariate(0,0.014) for i in range(365)]\n",
    "\n",
    "process3 = []\n",
    "\n",
    "P0 = 20\n",
    "\n",
    "process3.append(P0)\n",
    "\n",
    "for i in yields3:\n",
    "    P0 = P0*(1+i)\n",
    "    process3.append(P0)\n",
    "    \n",
    "    \n",
    "randomData = pd.DataFrame({'process_1':process1,'process_2':process2,'process_3':process3})"
   ]
  },
  {
   "cell_type": "code",
   "execution_count": 106,
   "metadata": {},
   "outputs": [
    {
     "data": {
      "text/plain": [
       "1"
      ]
     },
     "execution_count": 106,
     "metadata": {},
     "output_type": "execute_result"
    }
   ],
   "source": [
    "results4 = select_coint_rank(randomData,det_order=0,k_ar_diff=2)\n",
    "\n",
    "#The rank of the error correction model matrix is (according to the significance Test):\n",
    "\n",
    "results4.rank"
   ]
  },
  {
   "cell_type": "code",
   "execution_count": 107,
   "metadata": {},
   "outputs": [
    {
     "data": {
      "text/plain": [
       "(array([36.12356219,  4.71305756,  0.8677315 ]),\n",
       " array([[18.8928, 21.1314, 25.865 ],\n",
       "        [12.2971, 14.2639, 18.52  ],\n",
       "        [ 2.7055,  3.8415,  6.6349]]))"
      ]
     },
     "execution_count": 107,
     "metadata": {},
     "output_type": "execute_result"
    }
   ],
   "source": [
    "results5 = coint_johansen(randomData, det_order=0, k_ar_diff=2)\n",
    "\n",
    "#Significance test:\n",
    "\n",
    "results5.max_eig_stat, results5.max_eig_stat_crit_vals"
   ]
  },
  {
   "cell_type": "code",
   "execution_count": 108,
   "metadata": {},
   "outputs": [
    {
     "data": {
      "text/plain": [
       "array([[ 8.93572358e+02,  3.48978776e+00,  3.95428224e+00],\n",
       "       [-2.55304849e+03, -1.36999180e+01, -1.14832792e+01],\n",
       "       [ 1.97616097e-03,  1.56242395e-01, -4.57127043e-01]])"
      ]
     },
     "execution_count": 108,
     "metadata": {},
     "output_type": "execute_result"
    }
   ],
   "source": [
    "#The eigenvectors are:\n",
    "\n",
    "results5.evec"
   ]
  },
  {
   "cell_type": "code",
   "execution_count": 109,
   "metadata": {},
   "outputs": [
    {
     "data": {
      "text/plain": [
       "array([ 1.00000000e+00, -2.85712563e+00,  2.21152876e-06])"
      ]
     },
     "execution_count": 109,
     "metadata": {},
     "output_type": "execute_result"
    }
   ],
   "source": [
    "#Since the rank is one, we only take the first eigenvector, because there is only 1 cointegration relationship\n",
    "#We normalize the eigenvector with regard to the first variable:\n",
    "\n",
    "vector = results5.evec[:,0]/results5.evec[0][0]\n",
    "vector"
   ]
  },
  {
   "cell_type": "code",
   "execution_count": 110,
   "metadata": {},
   "outputs": [
    {
     "data": {
      "text/plain": [
       "-0.3500021102931373"
      ]
     },
     "execution_count": 110,
     "metadata": {},
     "output_type": "execute_result"
    }
   ],
   "source": [
    "#So the coefficient we are interested in is -2.85712563e+00, because there is only cointegration between the first two variables\n",
    "#Let's check that that the inverse of the coefficient is 0.35, as we defined process2 = process1*0.35:\n",
    "\n",
    "1/vector[1]"
   ]
  },
  {
   "cell_type": "code",
   "execution_count": 111,
   "metadata": {},
   "outputs": [
    {
     "data": {
      "text/plain": [
       "array([2.85714286, 0.        ])"
      ]
     },
     "execution_count": 111,
     "metadata": {},
     "output_type": "execute_result"
    }
   ],
   "source": [
    "#Now let's check that the coefficient -2.85712563e+00 is also achievable through a linear regression:\n",
    "\n",
    "from sklearn.linear_model import LinearRegression\n",
    "\n",
    "LinearReg = LinearRegression()\n",
    "\n",
    "LinearReg.fit(randomData.iloc[:,1:] , randomData.iloc[:,0])\n",
    "\n",
    "LinearReg.coef_\n",
    "\n"
   ]
  },
  {
   "cell_type": "code",
   "execution_count": 112,
   "metadata": {},
   "outputs": [],
   "source": [
    "# Trying random experiment with linear relationiship between process 1,2 and 3\n",
    "\n",
    "import random\n",
    "import matplotlib.pyplot as plt\n",
    "%matplotlib notebook\n",
    "\n",
    "random.seed(6)\n",
    "\n",
    "yields1 = [random.normalvariate(0,0.012) for i in range(365)]\n",
    "\n",
    "process1 = []\n",
    "\n",
    "P0 = 15\n",
    "\n",
    "process1.append(P0)\n",
    "\n",
    "for i in yields1:\n",
    "    P0 = P0*(1+i)\n",
    "    process1.append(P0)\n",
    "    \n",
    "process2 = [i*0.35 for i in process1]\n",
    "\n",
    "process3 = [i*0.70 for i in process1]\n",
    "    \n",
    "yields4 = [random.normalvariate(0,0.014) for i in range(365)]\n",
    "\n",
    "process4 = []\n",
    "\n",
    "P0 = 20\n",
    "\n",
    "process4.append(P0)\n",
    "\n",
    "for i in yields4:\n",
    "    P0 = P0*(1+i)\n",
    "    process4.append(P0)\n",
    "    \n",
    "    \n",
    "randomData = pd.DataFrame({'process_1':process1,'process_2':process2,'process_3':process3, 'process_4': process4})"
   ]
  },
  {
   "cell_type": "code",
   "execution_count": 113,
   "metadata": {},
   "outputs": [
    {
     "ename": "LinAlgError",
     "evalue": "Singular matrix",
     "output_type": "error",
     "traceback": [
      "\u001b[1;31m---------------------------------------------------------------------------\u001b[0m",
      "\u001b[1;31mLinAlgError\u001b[0m                               Traceback (most recent call last)",
      "\u001b[1;32m~\\AppData\\Local\\Temp\\ipykernel_10796\\267621028.py\u001b[0m in \u001b[0;36m<module>\u001b[1;34m\u001b[0m\n\u001b[1;32m----> 1\u001b[1;33m \u001b[0mresults6\u001b[0m \u001b[1;33m=\u001b[0m \u001b[0mselect_coint_rank\u001b[0m\u001b[1;33m(\u001b[0m\u001b[0mrandomData\u001b[0m\u001b[1;33m,\u001b[0m \u001b[0mdet_order\u001b[0m\u001b[1;33m=\u001b[0m\u001b[1;36m0\u001b[0m\u001b[1;33m,\u001b[0m\u001b[0mk_ar_diff\u001b[0m\u001b[1;33m=\u001b[0m\u001b[1;36m2\u001b[0m\u001b[1;33m)\u001b[0m\u001b[1;33m\u001b[0m\u001b[1;33m\u001b[0m\u001b[0m\n\u001b[0m\u001b[0;32m      2\u001b[0m \u001b[1;33m\u001b[0m\u001b[0m\n\u001b[0;32m      3\u001b[0m \u001b[0mresults6\u001b[0m\u001b[1;33m.\u001b[0m\u001b[0mrank\u001b[0m\u001b[1;33m\u001b[0m\u001b[1;33m\u001b[0m\u001b[0m\n",
      "\u001b[1;32m~\\Anaconda3\\lib\\site-packages\\statsmodels\\tsa\\vector_ar\\vecm.py\u001b[0m in \u001b[0;36mselect_coint_rank\u001b[1;34m(endog, det_order, k_ar_diff, method, signif)\u001b[0m\n\u001b[0;32m    576\u001b[0m         )\n\u001b[0;32m    577\u001b[0m \u001b[1;33m\u001b[0m\u001b[0m\n\u001b[1;32m--> 578\u001b[1;33m     \u001b[0mcoint_result\u001b[0m \u001b[1;33m=\u001b[0m \u001b[0mcoint_johansen\u001b[0m\u001b[1;33m(\u001b[0m\u001b[0mendog\u001b[0m\u001b[1;33m,\u001b[0m \u001b[0mdet_order\u001b[0m\u001b[1;33m,\u001b[0m \u001b[0mk_ar_diff\u001b[0m\u001b[1;33m)\u001b[0m\u001b[1;33m\u001b[0m\u001b[1;33m\u001b[0m\u001b[0m\n\u001b[0m\u001b[0;32m    579\u001b[0m     \u001b[0mtest_stat\u001b[0m \u001b[1;33m=\u001b[0m \u001b[0mcoint_result\u001b[0m\u001b[1;33m.\u001b[0m\u001b[0mlr1\u001b[0m \u001b[1;32mif\u001b[0m \u001b[0mmethod\u001b[0m \u001b[1;33m==\u001b[0m \u001b[1;34m\"trace\"\u001b[0m \u001b[1;32melse\u001b[0m \u001b[0mcoint_result\u001b[0m\u001b[1;33m.\u001b[0m\u001b[0mlr2\u001b[0m\u001b[1;33m\u001b[0m\u001b[1;33m\u001b[0m\u001b[0m\n\u001b[0;32m    580\u001b[0m     \u001b[0mcrit_vals\u001b[0m \u001b[1;33m=\u001b[0m \u001b[0mcoint_result\u001b[0m\u001b[1;33m.\u001b[0m\u001b[0mcvt\u001b[0m \u001b[1;32mif\u001b[0m \u001b[0mmethod\u001b[0m \u001b[1;33m==\u001b[0m \u001b[1;34m\"trace\"\u001b[0m \u001b[1;32melse\u001b[0m \u001b[0mcoint_result\u001b[0m\u001b[1;33m.\u001b[0m\u001b[0mcvm\u001b[0m\u001b[1;33m\u001b[0m\u001b[1;33m\u001b[0m\u001b[0m\n",
      "\u001b[1;32m~\\Anaconda3\\lib\\site-packages\\statsmodels\\tsa\\vector_ar\\vecm.py\u001b[0m in \u001b[0;36mcoint_johansen\u001b[1;34m(endog, det_order, k_ar_diff)\u001b[0m\n\u001b[0;32m    698\u001b[0m     \u001b[0msk0\u001b[0m \u001b[1;33m=\u001b[0m \u001b[0mnp\u001b[0m\u001b[1;33m.\u001b[0m\u001b[0mdot\u001b[0m\u001b[1;33m(\u001b[0m\u001b[0mrkt\u001b[0m\u001b[1;33m.\u001b[0m\u001b[0mT\u001b[0m\u001b[1;33m,\u001b[0m \u001b[0mr0t\u001b[0m\u001b[1;33m)\u001b[0m \u001b[1;33m/\u001b[0m \u001b[0mrkt\u001b[0m\u001b[1;33m.\u001b[0m\u001b[0mshape\u001b[0m\u001b[1;33m[\u001b[0m\u001b[1;36m0\u001b[0m\u001b[1;33m]\u001b[0m\u001b[1;33m\u001b[0m\u001b[1;33m\u001b[0m\u001b[0m\n\u001b[0;32m    699\u001b[0m     \u001b[0ms00\u001b[0m \u001b[1;33m=\u001b[0m \u001b[0mnp\u001b[0m\u001b[1;33m.\u001b[0m\u001b[0mdot\u001b[0m\u001b[1;33m(\u001b[0m\u001b[0mr0t\u001b[0m\u001b[1;33m.\u001b[0m\u001b[0mT\u001b[0m\u001b[1;33m,\u001b[0m \u001b[0mr0t\u001b[0m\u001b[1;33m)\u001b[0m \u001b[1;33m/\u001b[0m \u001b[0mr0t\u001b[0m\u001b[1;33m.\u001b[0m\u001b[0mshape\u001b[0m\u001b[1;33m[\u001b[0m\u001b[1;36m0\u001b[0m\u001b[1;33m]\u001b[0m\u001b[1;33m\u001b[0m\u001b[1;33m\u001b[0m\u001b[0m\n\u001b[1;32m--> 700\u001b[1;33m     \u001b[0msig\u001b[0m \u001b[1;33m=\u001b[0m \u001b[0mnp\u001b[0m\u001b[1;33m.\u001b[0m\u001b[0mdot\u001b[0m\u001b[1;33m(\u001b[0m\u001b[0msk0\u001b[0m\u001b[1;33m,\u001b[0m \u001b[0mnp\u001b[0m\u001b[1;33m.\u001b[0m\u001b[0mdot\u001b[0m\u001b[1;33m(\u001b[0m\u001b[0minv\u001b[0m\u001b[1;33m(\u001b[0m\u001b[0ms00\u001b[0m\u001b[1;33m)\u001b[0m\u001b[1;33m,\u001b[0m \u001b[0msk0\u001b[0m\u001b[1;33m.\u001b[0m\u001b[0mT\u001b[0m\u001b[1;33m)\u001b[0m\u001b[1;33m)\u001b[0m\u001b[1;33m\u001b[0m\u001b[1;33m\u001b[0m\u001b[0m\n\u001b[0m\u001b[0;32m    701\u001b[0m     \u001b[0mtmp\u001b[0m \u001b[1;33m=\u001b[0m \u001b[0minv\u001b[0m\u001b[1;33m(\u001b[0m\u001b[0mskk\u001b[0m\u001b[1;33m)\u001b[0m\u001b[1;33m\u001b[0m\u001b[1;33m\u001b[0m\u001b[0m\n\u001b[0;32m    702\u001b[0m     \u001b[0mau\u001b[0m\u001b[1;33m,\u001b[0m \u001b[0mdu\u001b[0m \u001b[1;33m=\u001b[0m \u001b[0mnp\u001b[0m\u001b[1;33m.\u001b[0m\u001b[0mlinalg\u001b[0m\u001b[1;33m.\u001b[0m\u001b[0meig\u001b[0m\u001b[1;33m(\u001b[0m\u001b[0mnp\u001b[0m\u001b[1;33m.\u001b[0m\u001b[0mdot\u001b[0m\u001b[1;33m(\u001b[0m\u001b[0mtmp\u001b[0m\u001b[1;33m,\u001b[0m \u001b[0msig\u001b[0m\u001b[1;33m)\u001b[0m\u001b[1;33m)\u001b[0m  \u001b[1;31m# au is eval, du is evec\u001b[0m\u001b[1;33m\u001b[0m\u001b[1;33m\u001b[0m\u001b[0m\n",
      "\u001b[1;32m<__array_function__ internals>\u001b[0m in \u001b[0;36minv\u001b[1;34m(*args, **kwargs)\u001b[0m\n",
      "\u001b[1;32m~\\Anaconda3\\lib\\site-packages\\numpy\\linalg\\linalg.py\u001b[0m in \u001b[0;36minv\u001b[1;34m(a)\u001b[0m\n\u001b[0;32m    543\u001b[0m     \u001b[0msignature\u001b[0m \u001b[1;33m=\u001b[0m \u001b[1;34m'D->D'\u001b[0m \u001b[1;32mif\u001b[0m \u001b[0misComplexType\u001b[0m\u001b[1;33m(\u001b[0m\u001b[0mt\u001b[0m\u001b[1;33m)\u001b[0m \u001b[1;32melse\u001b[0m \u001b[1;34m'd->d'\u001b[0m\u001b[1;33m\u001b[0m\u001b[1;33m\u001b[0m\u001b[0m\n\u001b[0;32m    544\u001b[0m     \u001b[0mextobj\u001b[0m \u001b[1;33m=\u001b[0m \u001b[0mget_linalg_error_extobj\u001b[0m\u001b[1;33m(\u001b[0m\u001b[0m_raise_linalgerror_singular\u001b[0m\u001b[1;33m)\u001b[0m\u001b[1;33m\u001b[0m\u001b[1;33m\u001b[0m\u001b[0m\n\u001b[1;32m--> 545\u001b[1;33m     \u001b[0mainv\u001b[0m \u001b[1;33m=\u001b[0m \u001b[0m_umath_linalg\u001b[0m\u001b[1;33m.\u001b[0m\u001b[0minv\u001b[0m\u001b[1;33m(\u001b[0m\u001b[0ma\u001b[0m\u001b[1;33m,\u001b[0m \u001b[0msignature\u001b[0m\u001b[1;33m=\u001b[0m\u001b[0msignature\u001b[0m\u001b[1;33m,\u001b[0m \u001b[0mextobj\u001b[0m\u001b[1;33m=\u001b[0m\u001b[0mextobj\u001b[0m\u001b[1;33m)\u001b[0m\u001b[1;33m\u001b[0m\u001b[1;33m\u001b[0m\u001b[0m\n\u001b[0m\u001b[0;32m    546\u001b[0m     \u001b[1;32mreturn\u001b[0m \u001b[0mwrap\u001b[0m\u001b[1;33m(\u001b[0m\u001b[0mainv\u001b[0m\u001b[1;33m.\u001b[0m\u001b[0mastype\u001b[0m\u001b[1;33m(\u001b[0m\u001b[0mresult_t\u001b[0m\u001b[1;33m,\u001b[0m \u001b[0mcopy\u001b[0m\u001b[1;33m=\u001b[0m\u001b[1;32mFalse\u001b[0m\u001b[1;33m)\u001b[0m\u001b[1;33m)\u001b[0m\u001b[1;33m\u001b[0m\u001b[1;33m\u001b[0m\u001b[0m\n\u001b[0;32m    547\u001b[0m \u001b[1;33m\u001b[0m\u001b[0m\n",
      "\u001b[1;32m~\\Anaconda3\\lib\\site-packages\\numpy\\linalg\\linalg.py\u001b[0m in \u001b[0;36m_raise_linalgerror_singular\u001b[1;34m(err, flag)\u001b[0m\n\u001b[0;32m     86\u001b[0m \u001b[1;33m\u001b[0m\u001b[0m\n\u001b[0;32m     87\u001b[0m \u001b[1;32mdef\u001b[0m \u001b[0m_raise_linalgerror_singular\u001b[0m\u001b[1;33m(\u001b[0m\u001b[0merr\u001b[0m\u001b[1;33m,\u001b[0m \u001b[0mflag\u001b[0m\u001b[1;33m)\u001b[0m\u001b[1;33m:\u001b[0m\u001b[1;33m\u001b[0m\u001b[1;33m\u001b[0m\u001b[0m\n\u001b[1;32m---> 88\u001b[1;33m     \u001b[1;32mraise\u001b[0m \u001b[0mLinAlgError\u001b[0m\u001b[1;33m(\u001b[0m\u001b[1;34m\"Singular matrix\"\u001b[0m\u001b[1;33m)\u001b[0m\u001b[1;33m\u001b[0m\u001b[1;33m\u001b[0m\u001b[0m\n\u001b[0m\u001b[0;32m     89\u001b[0m \u001b[1;33m\u001b[0m\u001b[0m\n\u001b[0;32m     90\u001b[0m \u001b[1;32mdef\u001b[0m \u001b[0m_raise_linalgerror_nonposdef\u001b[0m\u001b[1;33m(\u001b[0m\u001b[0merr\u001b[0m\u001b[1;33m,\u001b[0m \u001b[0mflag\u001b[0m\u001b[1;33m)\u001b[0m\u001b[1;33m:\u001b[0m\u001b[1;33m\u001b[0m\u001b[1;33m\u001b[0m\u001b[0m\n",
      "\u001b[1;31mLinAlgError\u001b[0m: Singular matrix"
     ]
    }
   ],
   "source": [
    "results6 = select_coint_rank(randomData, det_order=0,k_ar_diff=2)\n",
    "\n",
    "results6.rank"
   ]
  },
  {
   "cell_type": "code",
   "execution_count": null,
   "metadata": {},
   "outputs": [],
   "source": []
  },
  {
   "cell_type": "code",
   "execution_count": null,
   "metadata": {},
   "outputs": [],
   "source": []
  }
 ],
 "metadata": {
  "kernelspec": {
   "display_name": "Python 3",
   "language": "python",
   "name": "python3"
  },
  "language_info": {
   "codemirror_mode": {
    "name": "ipython",
    "version": 3
   },
   "file_extension": ".py",
   "mimetype": "text/x-python",
   "name": "python",
   "nbconvert_exporter": "python",
   "pygments_lexer": "ipython3",
   "version": "3.8.5"
  }
 },
 "nbformat": 4,
 "nbformat_minor": 5
}
